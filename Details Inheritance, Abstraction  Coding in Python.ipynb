{
 "cells": [
  {
   "cell_type": "markdown",
   "metadata": {},
   "source": [
    "### Super keyword in oop"
   ]
  },
  {
   "cell_type": "code",
   "execution_count": 5,
   "metadata": {},
   "outputs": [
    {
     "name": "stdout",
     "output_type": "stream",
     "text": [
      "Inside phone constructor\n"
     ]
    }
   ],
   "source": [
    "class phone:\n",
    "    def __init__(self, price, brand,camera):\n",
    "        print(\"Inside phone constructor\")\n",
    "        self.price = price\n",
    "        self.brand = brand\n",
    "        self.camera = camera\n",
    "    def get_price(self):\n",
    "        return self.__price\n",
    "    \n",
    "    def buy(self):\n",
    "        print(\"Buying a phone inside a constructor\")\n",
    "        \n",
    "class smartphone(phone):\n",
    "    def buy(self):\n",
    "        print(\"Buying a phone inside a smartphone  constructor\")\n",
    "        \n",
    "        super().buy()\n",
    "s= smartphone(20000,\"apple\",4)\n",
    "    "
   ]
  },
  {
   "cell_type": "code",
   "execution_count": 6,
   "metadata": {},
   "outputs": [
    {
     "name": "stdout",
     "output_type": "stream",
     "text": [
      "Buying a phone inside a smartphone  constructor\n",
      "Buying a phone inside a constructor\n"
     ]
    }
   ],
   "source": [
    "s.buy()"
   ]
  },
  {
   "cell_type": "code",
   "execution_count": 7,
   "metadata": {},
   "outputs": [
    {
     "name": "stdout",
     "output_type": "stream",
     "text": [
      "Inside smartphone constructor\n",
      "Inside phone constructor\n"
     ]
    }
   ],
   "source": [
    "class phone:\n",
    "    def __init__(self, price, brand,camera):\n",
    "        print(\"Inside phone constructor\")\n",
    "        self.price = price\n",
    "        self.brand = brand\n",
    "        self.camera = camera\n",
    "    \n",
    "        \n",
    "class smartphone(phone):\n",
    "    def __init__(self, price, brand,camera,os,ram):\n",
    "        print(\"Inside smartphone constructor\")\n",
    "        super().__init__(price, brand,camera)\n",
    "        self.os = os\n",
    "        self.ram = ram\n",
    "        \n",
    "        \n",
    "        \n",
    "s= smartphone(20000,\"samsung\",4,\"Android\",15)\n",
    "\n",
    "\n",
    "    "
   ]
  },
  {
   "cell_type": "code",
   "execution_count": 8,
   "metadata": {},
   "outputs": [
    {
     "name": "stdout",
     "output_type": "stream",
     "text": [
      "samsung\n"
     ]
    }
   ],
   "source": [
    "print(s.brand)"
   ]
  },
  {
   "cell_type": "code",
   "execution_count": 9,
   "metadata": {},
   "outputs": [
    {
     "name": "stdout",
     "output_type": "stream",
     "text": [
      "4\n"
     ]
    }
   ],
   "source": [
    "print(s.camera)"
   ]
  },
  {
   "cell_type": "code",
   "execution_count": 10,
   "metadata": {},
   "outputs": [
    {
     "name": "stdout",
     "output_type": "stream",
     "text": [
      "Android\n"
     ]
    }
   ],
   "source": [
    "print(s.os)"
   ]
  },
  {
   "cell_type": "code",
   "execution_count": 11,
   "metadata": {},
   "outputs": [
    {
     "name": "stdout",
     "output_type": "stream",
     "text": [
      "15\n"
     ]
    }
   ],
   "source": [
    "print(s.ram)"
   ]
  },
  {
   "cell_type": "code",
   "execution_count": 12,
   "metadata": {},
   "outputs": [
    {
     "name": "stdout",
     "output_type": "stream",
     "text": [
      "Inside phone constructor\n",
      "Buying a phone\n",
      "Product customer review\n"
     ]
    }
   ],
   "source": [
    "# multilevel inheritance\n",
    "\n",
    "#grandfather\n",
    "class product:\n",
    "    def review(self):\n",
    "        print(\"Product customer review\")\n",
    "        \n",
    "        \n",
    "#Father    \n",
    "class phone(product):\n",
    "    def __init__(self, price, brand,camera):\n",
    "        print(\"Inside phone constructor\")\n",
    "        self.price = price\n",
    "        self.brand = brand\n",
    "        self.camera = camera\n",
    "        \n",
    "    \n",
    "    def buy(self):\n",
    "        print(\"Buying a phone\")\n",
    "\n",
    "# Child\n",
    "class smartphone(phone):\n",
    "    pass\n",
    "        \n",
    "s= smartphone(20000,\"apple\",4)\n",
    "s.buy()\n",
    "s.review()"
   ]
  },
  {
   "cell_type": "code",
   "execution_count": 15,
   "metadata": {},
   "outputs": [
    {
     "name": "stdout",
     "output_type": "stream",
     "text": [
      "Inside phone constructor\n",
      "Buying a phone\n"
     ]
    }
   ],
   "source": [
    "# Hierarchical inheritance\n",
    "\n",
    "        \n",
    "#Parent    \n",
    "class phone(product):\n",
    "    def __init__(self, price, brand,camera):\n",
    "        print(\"Inside phone constructor\")\n",
    "        self.price = price\n",
    "        self.brand = brand\n",
    "        self.camera = camera\n",
    "        \n",
    "    \n",
    "    def buy(self):\n",
    "        print(\"Buying a phone\")\n",
    "        \n",
    "        \n",
    "\n",
    "# Child\n",
    "class smartphone(phone):\n",
    "    pass\n",
    "\n",
    "# Child\n",
    "class FeaturePhone(phone):\n",
    "    pass\n",
    "        \n",
    "s= smartphone(20000,\"apple\",4)\n",
    "s.buy()\n"
   ]
  },
  {
   "cell_type": "code",
   "execution_count": 14,
   "metadata": {},
   "outputs": [
    {
     "name": "stdout",
     "output_type": "stream",
     "text": [
      "Inside phone constructor\n"
     ]
    }
   ],
   "source": [
    "F= FeaturePhone(15000,\"samsung\",6)"
   ]
  },
  {
   "cell_type": "code",
   "execution_count": 17,
   "metadata": {},
   "outputs": [
    {
     "name": "stdout",
     "output_type": "stream",
     "text": [
      "Buying a phone\n"
     ]
    }
   ],
   "source": [
    "F.buy()"
   ]
  },
  {
   "cell_type": "code",
   "execution_count": 21,
   "metadata": {},
   "outputs": [],
   "source": [
    "# multiple Inheritance\n",
    "\n",
    "#parent\n",
    "class phone(product):\n",
    "    def __init__(self, price, brand,camera):\n",
    "        print(\"Inside phone constructor\")\n",
    "        self.price = price\n",
    "        self.brand = brand\n",
    "        self.camera = camera\n",
    "        \n",
    "    \n",
    "    def buy(self):\n",
    "        print(\"Buying a phone\")\n",
    "        \n",
    "#parent\n",
    "class product:\n",
    "    def __init__(self):\n",
    "        pass\n",
    "\n",
    "    def review(self):\n",
    "        print(\"Product customer review\")\n",
    "        \n",
    "#child\n",
    "class smartphone(phone,product):\n",
    "    pass\n",
    "        "
   ]
  },
  {
   "cell_type": "code",
   "execution_count": 22,
   "metadata": {},
   "outputs": [
    {
     "name": "stdout",
     "output_type": "stream",
     "text": [
      "Inside phone constructor\n",
      "Buying a phone\n",
      "Product customer review\n"
     ]
    }
   ],
   "source": [
    "s= smartphone(20000,\"apple\",4)\n",
    "s.buy()\n",
    "s.review()"
   ]
  },
  {
   "cell_type": "markdown",
   "metadata": {},
   "source": [
    "### Abstraction  in oop details and example"
   ]
  },
  {
   "cell_type": "code",
   "execution_count": 2,
   "metadata": {},
   "outputs": [],
   "source": [
    "# Abstract base class(ABC)\n",
    "from abc import ABC, abstractmethod\n",
    "\n",
    "#senior\n",
    "\n",
    "class BankServer(ABC):\n",
    "    def Database(self):\n",
    "        print(\"Connect to Database\")\n",
    "    \n",
    "    @abstractmethod\n",
    "    def Security(self):\n",
    "        print(\"Security Passed\")\n",
    "        \n",
    "    def Display(self):\n",
    "        print(\"Display Data\")\n",
    "        \n",
    "\n",
    "#junior\n",
    "\n",
    "class MobileApp(BankServer):\n",
    "    def mobile_login(self):\n",
    "        print(\"Mobile App Login Successfully\")\n",
    "        \n",
    "    def Security(self):\n",
    "        print(\"Mobile App Security \")\n",
    "    \n"
   ]
  },
  {
   "cell_type": "code",
   "execution_count": 3,
   "metadata": {},
   "outputs": [],
   "source": [
    " mob = MobileApp()"
   ]
  },
  {
   "cell_type": "code",
   "execution_count": 4,
   "metadata": {},
   "outputs": [
    {
     "name": "stdout",
     "output_type": "stream",
     "text": [
      "Mobile App Login Successfully\n"
     ]
    }
   ],
   "source": [
    "mob.mobile_login()"
   ]
  },
  {
   "cell_type": "code",
   "execution_count": null,
   "metadata": {},
   "outputs": [],
   "source": []
  }
 ],
 "metadata": {
  "kernelspec": {
   "display_name": "Python 3",
   "language": "python",
   "name": "python3"
  },
  "language_info": {
   "codemirror_mode": {
    "name": "ipython",
    "version": 3
   },
   "file_extension": ".py",
   "mimetype": "text/x-python",
   "name": "python",
   "nbconvert_exporter": "python",
   "pygments_lexer": "ipython3",
   "version": "3.7.4"
  }
 },
 "nbformat": 4,
 "nbformat_minor": 2
}
