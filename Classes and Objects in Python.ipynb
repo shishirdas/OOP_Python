{
 "cells": [
  {
   "cell_type": "code",
   "execution_count": 9,
   "metadata": {},
   "outputs": [
    {
     "name": "stdout",
     "output_type": "stream",
     "text": [
      "it is a robot 1\n",
      "it is a robot 1\n"
     ]
    }
   ],
   "source": [
    "class Robot:\n",
    "   \n",
    "    def __init__(self, robot_number):\n",
    "        self.robot_number = robot_number\n",
    "        \n",
    "    def movement(self):\n",
    "        print(f\"it is a robot {self.robot_number}\")\n",
    "        \n",
    "    def fire_detect(self):\n",
    "        print(f\"it is a robot {self.robot_number}\")\n",
    "        \n",
    "    def wheel_control(self):\n",
    "        print(f\"it is a robot {self.robot_number}\")\n",
    "        \n",
    "    def ai_intelligence (self):\n",
    "        print(f\"it is a  AI robot {self.robot_number}\")\n",
    "        \n",
    "robot1 = Robot(robot_number = 1)\n",
    "\n",
    "robot1.movement()\n",
    "robot1.wheel_control()"
   ]
  },
  {
   "cell_type": "code",
   "execution_count": 10,
   "metadata": {},
   "outputs": [
    {
     "name": "stdout",
     "output_type": "stream",
     "text": [
      "it is a robot 2\n",
      "it is a robot 2\n",
      "it is a  AI robot 2\n"
     ]
    }
   ],
   "source": [
    "robot2 = Robot(robot_number = 2)\n",
    "robot2.movement()\n",
    "robot2.fire_detect()\n",
    "robot2.ai_intelligence()"
   ]
  },
  {
   "cell_type": "code",
   "execution_count": null,
   "metadata": {},
   "outputs": [],
   "source": []
  }
 ],
 "metadata": {
  "kernelspec": {
   "display_name": "Python 3",
   "language": "python",
   "name": "python3"
  },
  "language_info": {
   "codemirror_mode": {
    "name": "ipython",
    "version": 3
   },
   "file_extension": ".py",
   "mimetype": "text/x-python",
   "name": "python",
   "nbconvert_exporter": "python",
   "pygments_lexer": "ipython3",
   "version": "3.7.4"
  }
 },
 "nbformat": 4,
 "nbformat_minor": 2
}
