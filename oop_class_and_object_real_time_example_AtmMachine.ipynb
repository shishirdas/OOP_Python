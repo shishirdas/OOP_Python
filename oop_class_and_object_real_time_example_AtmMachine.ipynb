{
 "cells": [
  {
   "cell_type": "code",
   "execution_count": 2,
   "metadata": {
    "colab": {
     "base_uri": "https://localhost:8080/"
    },
    "id": "pC_lJbZJC2Dl",
    "outputId": "0c7be099-1c04-4b7f-dc52-2872c97938c1"
   },
   "outputs": [
    {
     "name": "stdout",
     "output_type": "stream",
     "text": [
      "Hello world\n"
     ]
    }
   ],
   "source": [
    "print(\"Hello world\")"
   ]
  },
  {
   "cell_type": "code",
   "execution_count": 3,
   "metadata": {
    "id": "ZG345NdyDJrn"
   },
   "outputs": [],
   "source": [
    "class AtmMchine:\n",
    "  def __init__(self):\n",
    "    self.pin = \"\"\n",
    "    self.balance = 0\n",
    "    self.menu()\n",
    "\n",
    "\n",
    "  def menu(self):\n",
    "    user_input = input(\n",
    "\n",
    "        \"\"\" Hi how can i help You?\n",
    "\n",
    "          1. press 1 to  create  pin\n",
    "          2. press 2 to  create change pin\n",
    "          3. press 3 to check balance\n",
    "          4. press 4 to  withdraw\n",
    "          5. Anything to Exit\n",
    "\n",
    "\n",
    "        \"\"\")\n",
    "\n",
    "\n",
    "    if user_input == \"1\":\n",
    "      # create a pin\n",
    "      self.create_pin()\n",
    "    elif user_input == \"2\":\n",
    "      # Create change a pin\n",
    "      self.change_pin()\n",
    "\n",
    "    elif user_input == \"3\":\n",
    "      # Check balance\n",
    "      self.check_balance()\n",
    "\n",
    "    elif user_input == \"4\":\n",
    "      # withdraw\n",
    "      self.withsraw_balance()\n",
    "\n",
    "    else:\n",
    "      exit()\n",
    "\n",
    "  def create_pin(self):\n",
    "    user_pin = input(\"Enter the pin : \")\n",
    "    self.pin = user_pin\n",
    "\n",
    "    user_balance = int(input(\"Enter your balance : \"))\n",
    "    self.balance = user_balance\n",
    "    print(\"Create a pin successfuly!\")\n",
    "    self.menu()\n",
    "\n",
    "  def change_pin(self):\n",
    "    old_pin = input(\"enter your old pin\")\n",
    "\n",
    "    if old_pin == self.pin:\n",
    "      new_pin = input(\"Enter your new pin : \")\n",
    "      self.pin = new_pin\n",
    "      print(\"Pin Change Successfully\")\n",
    "      self.menu()\n",
    "    else:\n",
    "      print(\"pin not Change\")\n",
    "      self.menu()\n",
    "\n",
    "  def check_balance(self):\n",
    "    user_pin = input(\"Enter the pin : \")\n",
    "    if user_pin == self.pin:\n",
    "      print(f\"Your balance is {self.balance}\")\n",
    "    else:\n",
    "      print(\"Your pin is incorrect plz try again\")\n",
    "\n",
    "    self.menu()\n",
    "\n",
    "  def withsraw_balance(self):\n",
    "    user_pin = input(\"Enter the pin : \")\n",
    "    if user_pin == self.pin:\n",
    "      amount = int(input(\"Enter your amount :\") )\n",
    "      if amount <= self.balance:\n",
    "        self.balance = self.balance - amount\n",
    "        print(f\"You have a withdraw {amount}.your new balance{self.balance}\")\n",
    "      else:\n",
    "        print(\"Insuccifient balance \")\n",
    "    else:\n",
    "      print(\"your pin is incorrect :\")\n",
    "    self.menu()\n",
    "\n"
   ]
  },
  {
   "cell_type": "code",
   "execution_count": 4,
   "metadata": {
    "colab": {
     "base_uri": "https://localhost:8080/"
    },
    "id": "9T_YZtVPZTQ4",
    "outputId": "55c94ef0-2580-4a84-f107-005439903233"
   },
   "outputs": [
    {
     "name": "stdout",
     "output_type": "stream",
     "text": [
      " Hi how can i help You?\n",
      "          \n",
      "          1. press 1 to  create  pin\n",
      "          2. press 2 to  create change pin\n",
      "          3. press 3 to check balance \n",
      "          4. press 4 to  withdraw\n",
      "          5. Anything to Exit \n",
      "\n",
      "\n",
      "        e\n"
     ]
    }
   ],
   "source": [
    "atm = AtmMchine()"
   ]
  },
  {
   "cell_type": "code",
   "execution_count": null,
   "metadata": {
    "colab": {
     "base_uri": "https://localhost:8080/"
    },
    "id": "zrRABaUfdh1y",
    "outputId": "baf306be-0f2f-409b-9285-0303cb40fd9d"
   },
   "outputs": [
    {
     "name": "stdout",
     "output_type": "stream",
     "text": [
      " Hi how can i help You?\n",
      "          \n",
      "          1. press 1 to  create  pin\n",
      "          2. press 2 to  create change pin\n",
      "          3. press 3 to check balance \n",
      "          4. press 4 to  withdraw\n",
      "          5. Anything to Exit \n",
      "\n",
      "\n",
      "        1\n",
      "Enter the pin : 12\n",
      "Enter your balance : 2000\n",
      "Create a pin successfuly!\n"
     ]
    }
   ],
   "source": [
    "cityBank = AtmMchine()"
   ]
  },
  {
   "cell_type": "code",
   "execution_count": null,
   "metadata": {
    "id": "nqxrZK8VeCkx"
   },
   "outputs": [],
   "source": []
  }
 ],
 "metadata": {
  "colab": {
   "provenance": []
  },
  "kernelspec": {
   "display_name": "Python 3",
   "language": "python",
   "name": "python3"
  },
  "language_info": {
   "codemirror_mode": {
    "name": "ipython",
    "version": 3
   },
   "file_extension": ".py",
   "mimetype": "text/x-python",
   "name": "python",
   "nbconvert_exporter": "python",
   "pygments_lexer": "ipython3",
   "version": "3.7.4"
  }
 },
 "nbformat": 4,
 "nbformat_minor": 1
}
