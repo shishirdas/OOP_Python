{
 "cells": [
  {
   "cell_type": "code",
   "execution_count": 28,
   "metadata": {},
   "outputs": [],
   "source": [
    "class Software_Developer:\n",
    "    def __init__(self,exp_level):\n",
    "        self.exp = exp_level\n",
    "    def cal_salary(self):\n",
    "        based_salary = 10000\n",
    "        actual_salary = 10000 * self.exp\n",
    "        print(actual_salary)\n",
    "\n",
    "        "
   ]
  },
  {
   "cell_type": "code",
   "execution_count": 29,
   "metadata": {},
   "outputs": [
    {
     "name": "stdout",
     "output_type": "stream",
     "text": [
      "Intern Level is :\n"
     ]
    }
   ],
   "source": [
    "class intern_level(Software_Developer):\n",
    "    \n",
    "    pass\n",
    "\n",
    "class Junior_level(Software_Developer):\n",
    "    pass\n",
    "\n",
    "class Mid_level(Software_Developer):\n",
    "    pass\n",
    "\n",
    "class senior_level(Software_Developer):\n",
    "    pass\n",
    "    "
   ]
  },
  {
   "cell_type": "code",
   "execution_count": 30,
   "metadata": {},
   "outputs": [],
   "source": [
    "intern_obj =  intern_level(1)\n",
    "junior_obj = Junior_level(2)\n",
    "mid_obj = Mid_level(3)\n",
    "senior_obj = senior_level(5)\n"
   ]
  },
  {
   "cell_type": "code",
   "execution_count": 31,
   "metadata": {},
   "outputs": [
    {
     "name": "stdout",
     "output_type": "stream",
     "text": [
      "10000\n",
      "20000\n",
      "30000\n",
      "50000\n"
     ]
    }
   ],
   "source": [
    "intern_obj.cal_salary()\n",
    "junior_obj.cal_salary()\n",
    "mid_obj.cal_salary()\n",
    "senior_obj.cal_salary()"
   ]
  },
  {
   "cell_type": "code",
   "execution_count": null,
   "metadata": {},
   "outputs": [],
   "source": []
  }
 ],
 "metadata": {
  "kernelspec": {
   "display_name": "Python 3",
   "language": "python",
   "name": "python3"
  },
  "language_info": {
   "codemirror_mode": {
    "name": "ipython",
    "version": 3
   },
   "file_extension": ".py",
   "mimetype": "text/x-python",
   "name": "python",
   "nbconvert_exporter": "python",
   "pygments_lexer": "ipython3",
   "version": "3.7.4"
  }
 },
 "nbformat": 4,
 "nbformat_minor": 2
}
